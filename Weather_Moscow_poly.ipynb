{
 "cells": [
  {
   "cell_type": "code",
   "execution_count": 48,
   "metadata": {},
   "outputs": [
    {
     "name": "stdout",
     "output_type": "stream",
     "text": [
      "Requirement already satisfied: pandas in c:\\users\\ivan\\appdata\\local\\programs\\python\\python36\\lib\\site-packages (0.23.4)\n",
      "Requirement already satisfied: python-dateutil>=2.5.0 in c:\\users\\ivan\\appdata\\local\\programs\\python\\python36\\lib\\site-packages (from pandas) (2.7.5)\n",
      "Requirement already satisfied: pytz>=2011k in c:\\users\\ivan\\appdata\\local\\programs\\python\\python36\\lib\\site-packages (from pandas) (2018.9)\n",
      "Requirement already satisfied: numpy>=1.9.0 in c:\\users\\ivan\\appdata\\local\\programs\\python\\python36\\lib\\site-packages (from pandas) (1.16.0)\n",
      "Requirement already satisfied: six>=1.5 in c:\\users\\ivan\\appdata\\local\\programs\\python\\python36\\lib\\site-packages (from python-dateutil>=2.5.0->pandas) (1.11.0)\n"
     ]
    },
    {
     "name": "stderr",
     "output_type": "stream",
     "text": [
      "WARNING: You are using pip version 19.3.1; however, version 20.0.2 is available.\n",
      "You should consider upgrading via the 'python -m pip install --upgrade pip' command.\n"
     ]
    },
    {
     "name": "stdout",
     "output_type": "stream",
     "text": [
      "Requirement already satisfied: numpy in c:\\users\\ivan\\appdata\\local\\programs\\python\\python36\\lib\\site-packages (1.16.0)\n"
     ]
    },
    {
     "name": "stderr",
     "output_type": "stream",
     "text": [
      "WARNING: You are using pip version 19.3.1; however, version 20.0.2 is available.\n",
      "You should consider upgrading via the 'python -m pip install --upgrade pip' command.\n"
     ]
    },
    {
     "name": "stdout",
     "output_type": "stream",
     "text": [
      "Requirement already satisfied: matplotlib in c:\\users\\ivan\\appdata\\local\\programs\\python\\python36\\lib\\site-packages (3.0.2)\n",
      "Requirement already satisfied: python-dateutil>=2.1 in c:\\users\\ivan\\appdata\\local\\programs\\python\\python36\\lib\\site-packages (from matplotlib) (2.7.5)\n",
      "Requirement already satisfied: cycler>=0.10 in c:\\users\\ivan\\appdata\\local\\programs\\python\\python36\\lib\\site-packages (from matplotlib) (0.10.0)\n",
      "Requirement already satisfied: numpy>=1.10.0 in c:\\users\\ivan\\appdata\\local\\programs\\python\\python36\\lib\\site-packages (from matplotlib) (1.16.0)\n",
      "Requirement already satisfied: kiwisolver>=1.0.1 in c:\\users\\ivan\\appdata\\local\\programs\\python\\python36\\lib\\site-packages (from matplotlib) (1.0.1)\n",
      "Requirement already satisfied: pyparsing!=2.0.4,!=2.1.2,!=2.1.6,>=2.0.1 in c:\\users\\ivan\\appdata\\local\\programs\\python\\python36\\lib\\site-packages (from matplotlib) (2.3.0)\n",
      "Requirement already satisfied: six>=1.5 in c:\\users\\ivan\\appdata\\local\\programs\\python\\python36\\lib\\site-packages (from python-dateutil>=2.1->matplotlib) (1.11.0)\n",
      "Requirement already satisfied: setuptools in c:\\users\\ivan\\appdata\\local\\programs\\python\\python36\\lib\\site-packages (from kiwisolver>=1.0.1->matplotlib) (41.6.0)\n"
     ]
    },
    {
     "name": "stderr",
     "output_type": "stream",
     "text": [
      "WARNING: You are using pip version 19.3.1; however, version 20.0.2 is available.\n",
      "You should consider upgrading via the 'python -m pip install --upgrade pip' command.\n"
     ]
    },
    {
     "name": "stdout",
     "output_type": "stream",
     "text": [
      "Requirement already satisfied: sklearn in c:\\users\\ivan\\appdata\\local\\programs\\python\\python36\\lib\\site-packages (0.0)\n",
      "Requirement already satisfied: scikit-learn in c:\\users\\ivan\\appdata\\local\\programs\\python\\python36\\lib\\site-packages (from sklearn) (0.20.1)\n",
      "Requirement already satisfied: numpy>=1.8.2 in c:\\users\\ivan\\appdata\\local\\programs\\python\\python36\\lib\\site-packages (from scikit-learn->sklearn) (1.16.0)\n",
      "Requirement already satisfied: scipy>=0.13.3 in c:\\users\\ivan\\appdata\\local\\programs\\python\\python36\\lib\\site-packages (from scikit-learn->sklearn) (1.1.0)\n"
     ]
    },
    {
     "name": "stderr",
     "output_type": "stream",
     "text": [
      "WARNING: You are using pip version 19.3.1; however, version 20.0.2 is available.\n",
      "You should consider upgrading via the 'python -m pip install --upgrade pip' command.\n"
     ]
    }
   ],
   "source": [
    "!pip install pandas\n",
    "!pip install numpy\n",
    "!pip install matplotlib\n",
    "!pip install sklearn"
   ]
  },
  {
   "cell_type": "code",
   "execution_count": 1,
   "metadata": {},
   "outputs": [],
   "source": [
    "import pandas as pd\n",
    "import matplotlib.pyplot as plt\n",
    "import numpy as np\n",
    "from sklearn.metrics import *"
   ]
  },
  {
   "cell_type": "code",
   "execution_count": 2,
   "metadata": {},
   "outputs": [
    {
     "data": {
      "text/html": [
       "<div>\n",
       "<style scoped>\n",
       "    .dataframe tbody tr th:only-of-type {\n",
       "        vertical-align: middle;\n",
       "    }\n",
       "\n",
       "    .dataframe tbody tr th {\n",
       "        vertical-align: top;\n",
       "    }\n",
       "\n",
       "    .dataframe thead th {\n",
       "        text-align: right;\n",
       "    }\n",
       "</style>\n",
       "<table border=\"1\" class=\"dataframe\">\n",
       "  <thead>\n",
       "    <tr style=\"text-align: right;\">\n",
       "      <th></th>\n",
       "      <th>date</th>\n",
       "      <th>value</th>\n",
       "    </tr>\n",
       "  </thead>\n",
       "  <tbody>\n",
       "    <tr>\n",
       "      <td>0</td>\n",
       "      <td>1939-01-01</td>\n",
       "      <td>3.3842</td>\n",
       "    </tr>\n",
       "    <tr>\n",
       "      <td>1</td>\n",
       "      <td>1939-02-01</td>\n",
       "      <td>3.4100</td>\n",
       "    </tr>\n",
       "    <tr>\n",
       "      <td>2</td>\n",
       "      <td>1939-03-01</td>\n",
       "      <td>3.4875</td>\n",
       "    </tr>\n",
       "    <tr>\n",
       "      <td>3</td>\n",
       "      <td>1939-04-01</td>\n",
       "      <td>3.5133</td>\n",
       "    </tr>\n",
       "    <tr>\n",
       "      <td>4</td>\n",
       "      <td>1939-05-01</td>\n",
       "      <td>3.5133</td>\n",
       "    </tr>\n",
       "  </tbody>\n",
       "</table>\n",
       "</div>"
      ],
      "text/plain": [
       "        date   value\n",
       "0 1939-01-01  3.3842\n",
       "1 1939-02-01  3.4100\n",
       "2 1939-03-01  3.4875\n",
       "3 1939-04-01  3.5133\n",
       "4 1939-05-01  3.5133"
      ]
     },
     "execution_count": 2,
     "metadata": {},
     "output_type": "execute_result"
    }
   ],
   "source": [
    "data = pd.read_excel(\"IPG2211A2N.xls\", skiprows=10);\n",
    "data.columns = [\"date\",\"value\"]\n",
    "data['date'] = pd.to_datetime(data['date'])\n",
    "data.head()"
   ]
  },
  {
   "cell_type": "code",
   "execution_count": 3,
   "metadata": {},
   "outputs": [
    {
     "name": "stderr",
     "output_type": "stream",
     "text": [
      "/Users/ellu/opt/anaconda3/lib/python3.7/site-packages/pandas/plotting/_matplotlib/converter.py:103: FutureWarning: Using an implicitly registered datetime converter for a matplotlib plotting method. The converter was registered by pandas on import. Future versions of pandas will require you to explicitly register matplotlib converters.\n",
      "\n",
      "To register the converters:\n",
      "\t>>> from pandas.plotting import register_matplotlib_converters\n",
      "\t>>> register_matplotlib_converters()\n",
      "  warnings.warn(msg, FutureWarning)\n"
     ]
    },
    {
     "data": {
      "image/png": "[encoded data removed]",
      "text/plain": [
       "<Figure size 432x288 with 1 Axes>"
      ]
     },
     "metadata": {
      "needs_background": "light"
     },
     "output_type": "display_data"
    }
   ],
   "source": [
    "plt.plot(data['date'], data['value'])\n",
    "plt.legend(['Реальные данные с файла'])\n",
    "plt.title('Данные полученные с файла')\n",
    "plt.show()"
   ]
  },
  {
   "cell_type": "code",
   "execution_count": 4,
   "metadata": {},
   "outputs": [],
   "source": [
    "averege_data = pd.DataFrame(data.groupby(data['date'].dt.year).agg('mean'))\n",
    "averege_data = averege_data.reset_index(level=\"date\")\n",
    "# Данные усредняються для того чтобы \"обучить\" полином именно на данных по годам. Так же это сгладит график,\n",
    "# что улучшит резульаты подбора параметров"
   ]
  },
  {
   "cell_type": "code",
   "execution_count": 5,
   "metadata": {},
   "outputs": [],
   "source": [
    "degree_of_polynomial = 3 # увеличивать номер полинома не приносит дивидендов, \n",
    "                         # поэтому остановился на квадратичном (степень считаем с 0)\n",
    "fit = np.polyfit(averege_data['date'], averege_data['value'] ,degree_of_polynomial) \n",
    "predict = np.poly1d(fit)\n"
   ]
  },
  {
   "cell_type": "code",
   "execution_count": 6,
   "metadata": {},
   "outputs": [],
   "source": [
    "predict_data = [predict(x) for x in averege_data['date']]\n"
   ]
  },
  {
   "cell_type": "code",
   "execution_count": 7,
   "metadata": {},
   "outputs": [
    {
     "data": {
      "image/png": "[encoded data removed]",
      "text/plain": [
       "<Figure size 432x288 with 1 Axes>"
      ]
     },
     "metadata": {
      "needs_background": "light"
     },
     "output_type": "display_data"
    }
   ],
   "source": [
    "plt.plot(averege_data['date'], averege_data['value'])\n",
    "plt.plot(averege_data['date'], predict_data)\n",
    "plt.legend(('Реальные данные с файла', 'Данные полученные с помощью полинома'))\n",
    "plt.title('Обзор полученного полинома')\n",
    "plt.show()\n"
   ]
  },
  {
   "cell_type": "code",
   "execution_count": 8,
   "metadata": {},
   "outputs": [
    {
     "name": "stdout",
     "output_type": "stream",
     "text": [
      "Mean squared error: 4.54\n",
      "Mean absolute error: 1.68\n",
      "Explained variance score: 1.00\n",
      "Mean squared log error: 0.00\n",
      "Median absolute error: 1.22\n"
     ]
    }
   ],
   "source": [
    "print('Mean squared error: %.2f'\n",
    "      % mean_squared_error(averege_data['value'], predict_data))\n",
    "\n",
    "print('Mean absolute error: %.2f'\n",
    "      % mean_absolute_error(averege_data['value'], predict_data))\n",
    "\n",
    "print('Explained variance score: %.2f'\n",
    "      % explained_variance_score(averege_data['value'], predict_data))\n",
    "\n",
    "print('Mean squared log error: %.2f'\n",
    "      % mean_squared_log_error(averege_data['value'], predict_data))\n",
    "\n",
    "print('Median absolute error: %.2f'\n",
    "      % median_absolute_error(averege_data['value'], predict_data))\n",
    "\n"
   ]
  },
  {
   "cell_type": "code",
   "execution_count": 9,
   "metadata": {},
   "outputs": [
    {
     "name": "stdout",
     "output_type": "stream",
     "text": [
      "Coefficient of determination: 1.00\n"
     ]
    }
   ],
   "source": [
    "# The coefficient of determination: 1 is perfect prediction\n",
    "# Коэффициент детерминации для модели принимает значения от 0 до 1. \n",
    "# Чем ближе значение коэффициента к 1, тем сильнее зависимость. \n",
    "# При оценке регрессионных моделей это интерпретируется как соответствие модели данным. \n",
    "# Для приемлемых моделей предполагается, что коэффициент детерминации должен быть хотя бы не меньше 50 % \n",
    "# (в этом случае коэффициент множественной корреляции превышает по модулю 70 %). \n",
    "# Модели с коэффициентом детерминации выше 80 % можно признать достаточно хорошими \n",
    "# (коэффициент корреляции превышает 90 %). Значение коэффициента детерминации 1 означает \n",
    "# функциональную зависимость между переменными.\n",
    "print('Coefficient of determination: %.2f'\n",
    "      % r2_score(averege_data['value'], predict_data))"
   ]
  },
  {
   "cell_type": "code",
   "execution_count": 10,
   "metadata": {},
   "outputs": [
    {
     "name": "stdout",
     "output_type": "stream",
     "text": [
      "Ответ на полученное задание: 104.80\n"
     ]
    }
   ],
   "source": [
    "print('Ответ на полученное задание: %.2f' % predict(2020))"
   ]
  },
  {
   "cell_type": "markdown",
   "metadata": {},
   "source": [
    "Хотелось бы объяснить почему не использовал корреляцию и/или автокореляцию. По числам которые были даны видно что зависимость практически линейная и постоянно увеличиваеться со временем и не вооруженным глазом. Также это не сильно повлияло бы на решение. \n",
    "Метрики показывает довольно хорошие показатели точности, что доказывает на работоспособность полинома к предсказыванию, хотя-бы на следующий год. \n",
    "Почему использовался именно полином, а не линейная регрессия или не дай бог нейронные сети? Потому что задание легкое и усложнять решение совсем не хотелось.\n"
   ]
  },
  {
   "cell_type": "code",
   "execution_count": null,
   "metadata": {},
   "outputs": [],
   "source": []
  }
 ],
 "metadata": {
  "kernelspec": {
   "display_name": "Python 3",
   "language": "python",
   "name": "python3"
  },
  "language_info": {
   "codemirror_mode": {
    "name": "ipython",
    "version": 3
   },
   "file_extension": ".py",
   "mimetype": "text/x-python",
   "name": "python",
   "nbconvert_exporter": "python",
   "pygments_lexer": "ipython3",
   "version": "3.7.4"
  }
 },
 "nbformat": 4,
 "nbformat_minor": 4
}
